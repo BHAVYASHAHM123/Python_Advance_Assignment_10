{
  "nbformat": 4,
  "nbformat_minor": 0,
  "metadata": {
    "colab": {
      "name": "Python_Advance_Assignment_10.ipynb",
      "provenance": []
    },
    "kernelspec": {
      "name": "python3",
      "display_name": "Python 3"
    },
    "language_info": {
      "name": "python"
    }
  },
  "cells": [
    {
      "cell_type": "markdown",
      "source": [
        "Q1). What is the difference between __getattr__ and __getattribute__?\n",
        "\n",
        "Ans) The biggest difference is that __getattr__ is called for attributes that don't actually exist on a class.\n",
        "\n",
        "__getattribute__ Called unconditionally to implement attribute accesses for instances of the class."
      ],
      "metadata": {
        "id": "WJ7h4RNygBWa"
      }
    },
    {
      "cell_type": "markdown",
      "source": [
        "Q2). What is the difference between properties and descriptors?\n",
        "\n",
        "Ans) Descriptors are a low-level mechanism that lets you hook into an object's attributes being accessed.\n",
        " Properties are a high-level application of this that is, properties are implemented using descriptors."
      ],
      "metadata": {
        "id": "L0imNAttgBTH"
      }
    },
    {
      "cell_type": "markdown",
      "source": [
        "Q3. What are the key differences in functionality between __getattr__ and __getattribute__, as well as properties and descriptors?\n",
        "\n",
        "Ans) The biggest difference is that __getattr__ is called for attributes that don't actually exist on a class.\n",
        "\n",
        "__getattribute__ Called unconditionally to implement attribute accesses for instances of the class.\n",
        "\n",
        "Descriptors are a low-level mechanism that lets you hook into an object's attributes being accessed.\n",
        "\n",
        "Properties are a high-level application of this that is, properties are implemented using descriptors.\n",
        "\n"
      ],
      "metadata": {
        "id": "U9NpNGKcgBQh"
      }
    },
    {
      "cell_type": "code",
      "execution_count": null,
      "metadata": {
        "id": "ZAdjKz__f2lE"
      },
      "outputs": [],
      "source": [
        ""
      ]
    }
  ]
}